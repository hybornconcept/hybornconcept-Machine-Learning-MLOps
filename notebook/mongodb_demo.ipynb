import pymongo
import urllib.parse

# Define your connection parameters
username = "your_username"  # Replace with your actual username
password = "your_password"  # Replace with your actual password
host = "your_host"  # e.g., "cluster0.mongodb.net"
database = "your_database"  # Your database name
collection_name = "your_collection"  # Your collection name

# Escape username and password
escaped_username = urllib.parse.quote_plus(username)
escaped_password = urllib.parse.quote_plus(password)

# Create connection URL
CONNECTION_URL = f"mongodb+srv://{escaped_username}:{escaped_password}@{host}/?retryWrites=true&w=majority"

# Connect to MongoDB
client = pymongo.MongoClient(CONNECTION_URL)

# Access database and collection
DB_NAME = database
COLLECTION_NAME = collection_name
db = client[DB_NAME]
collection = db[COLLECTION_NAME]

# Insert data (assuming 'data' is defined elsewhere)
# rec = collection.insert_many(data)